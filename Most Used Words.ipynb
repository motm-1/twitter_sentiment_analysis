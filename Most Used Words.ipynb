{
 "cells": [
  {
   "cell_type": "code",
   "execution_count": 123,
   "id": "d865fdd3",
   "metadata": {},
   "outputs": [],
   "source": [
    "import pandas as pd\n",
    "import numpy as np\n",
    "import matplotlib.pyplot as plt\n",
    "import seaborn as sns\n",
    "import nltk\n",
    "from wordcloud import STOPWORDS\n",
    "df_filename = 'raw_data.csv'\n",
    "top_250_words_filename = 'top_250_words_df.csv'\n",
    "words_filename = 'words_df.csv'"
   ]
  },
  {
   "cell_type": "code",
   "execution_count": 4,
   "id": "eeb27a32",
   "metadata": {},
   "outputs": [],
   "source": [
    "df = pd.read_csv(df_filename)"
   ]
  },
  {
   "cell_type": "code",
   "execution_count": 5,
   "id": "cca57c41",
   "metadata": {},
   "outputs": [],
   "source": [
    "text = \" \".join(text for text in df.Text)\n",
    "text_to_tokenize = text.replace('\\n',' ')\n",
    "words = nltk.tokenize.word_tokenize(text_to_tokenize)\n",
    "words.sort()"
   ]
  },
  {
   "cell_type": "code",
   "execution_count": 13,
   "id": "396d8b56",
   "metadata": {},
   "outputs": [],
   "source": [
    "def count_words(unique, words):\n",
    "    count = []\n",
    "    for word in unique:\n",
    "        n = words.count(word)\n",
    "        count.append(n)\n",
    "        \n",
    "    return count"
   ]
  },
  {
   "cell_type": "code",
   "execution_count": 17,
   "id": "fb55e42a",
   "metadata": {},
   "outputs": [],
   "source": [
    "unique = pd.Series(words).unique()\n",
    "unique=pd.Series(unique)\n",
    "count = count_words(unique, words)\n",
    "count=pd.Series(count)"
   ]
  },
  {
   "cell_type": "code",
   "execution_count": 71,
   "id": "b9dd787a",
   "metadata": {},
   "outputs": [],
   "source": [
    "df_words = pd.DataFrame(data=(unique, count)).T\n",
    "df_words.columns = ['Word', 'Count']"
   ]
  },
  {
   "cell_type": "code",
   "execution_count": 52,
   "id": "dd2993a8",
   "metadata": {},
   "outputs": [],
   "source": [
    "stopwords = STOPWORDS\n",
    "stopwords = stopwords.union([\"It\", \"The\", \"Artificial Intelligence\", \"ChatGPT\",\"AI\",\"ha\", \"thi\", \"now\", \"onli\", \"im\", \"becaus\", \"wa\", \"will\", \"even\", \"go\", \"realli\", \"didnt\", \"abl\", \"something\", \"i\", \"ai\", \"s\", \"I\", \"t\", \"artificial intelligence\", \"u\", \"Chat GPT\", \"don t\", \"m\", \"one\", \"s\"])"
   ]
  },
  {
   "cell_type": "code",
   "execution_count": 73,
   "id": "ba5f8422",
   "metadata": {},
   "outputs": [],
   "source": [
    "df_words['Useless_Word'] = df_words['Word'].apply(lambda x: True if x in stopwords else False)\n",
    "df_words['To_Keep'] = df_words.Word.str.isalpha()\n",
    "df_words = df_words[(df_words.To_Keep == True) & (df_words.Useless_Word == False)]"
   ]
  },
  {
   "cell_type": "code",
   "execution_count": 79,
   "id": "ae9037c9",
   "metadata": {
    "scrolled": true
   },
   "outputs": [
    {
     "data": {
      "text/html": [
       "<div>\n",
       "<style scoped>\n",
       "    .dataframe tbody tr th:only-of-type {\n",
       "        vertical-align: middle;\n",
       "    }\n",
       "\n",
       "    .dataframe tbody tr th {\n",
       "        vertical-align: top;\n",
       "    }\n",
       "\n",
       "    .dataframe thead th {\n",
       "        text-align: right;\n",
       "    }\n",
       "</style>\n",
       "<table border=\"1\" class=\"dataframe\">\n",
       "  <thead>\n",
       "    <tr style=\"text-align: right;\">\n",
       "      <th></th>\n",
       "      <th>Word</th>\n",
       "      <th>Count</th>\n",
       "      <th>Useless_Word</th>\n",
       "      <th>To_Keep</th>\n",
       "    </tr>\n",
       "  </thead>\n",
       "  <tbody>\n",
       "    <tr>\n",
       "      <th>31177</th>\n",
       "      <td>people</td>\n",
       "      <td>1688</td>\n",
       "      <td>False</td>\n",
       "      <td>True</td>\n",
       "    </tr>\n",
       "    <tr>\n",
       "      <th>17128</th>\n",
       "      <td>art</td>\n",
       "      <td>1424</td>\n",
       "      <td>False</td>\n",
       "      <td>True</td>\n",
       "    </tr>\n",
       "    <tr>\n",
       "      <th>28391</th>\n",
       "      <td>make</td>\n",
       "      <td>1188</td>\n",
       "      <td>False</td>\n",
       "      <td>True</td>\n",
       "    </tr>\n",
       "    <tr>\n",
       "      <th>38277</th>\n",
       "      <td>use</td>\n",
       "      <td>1109</td>\n",
       "      <td>False</td>\n",
       "      <td>True</td>\n",
       "    </tr>\n",
       "    <tr>\n",
       "      <th>36980</th>\n",
       "      <td>think</td>\n",
       "      <td>1062</td>\n",
       "      <td>False</td>\n",
       "      <td>True</td>\n",
       "    </tr>\n",
       "    <tr>\n",
       "      <th>38321</th>\n",
       "      <td>using</td>\n",
       "      <td>976</td>\n",
       "      <td>False</td>\n",
       "      <td>True</td>\n",
       "    </tr>\n",
       "    <tr>\n",
       "      <th>24723</th>\n",
       "      <td>going</td>\n",
       "      <td>916</td>\n",
       "      <td>False</td>\n",
       "      <td>True</td>\n",
       "    </tr>\n",
       "    <tr>\n",
       "      <th>36960</th>\n",
       "      <td>thing</td>\n",
       "      <td>873</td>\n",
       "      <td>False</td>\n",
       "      <td>True</td>\n",
       "    </tr>\n",
       "    <tr>\n",
       "      <th>29844</th>\n",
       "      <td>new</td>\n",
       "      <td>820</td>\n",
       "      <td>False</td>\n",
       "      <td>True</td>\n",
       "    </tr>\n",
       "    <tr>\n",
       "      <th>27395</th>\n",
       "      <td>know</td>\n",
       "      <td>805</td>\n",
       "      <td>False</td>\n",
       "      <td>True</td>\n",
       "    </tr>\n",
       "    <tr>\n",
       "      <th>31745</th>\n",
       "      <td>porn</td>\n",
       "      <td>784</td>\n",
       "      <td>False</td>\n",
       "      <td>True</td>\n",
       "    </tr>\n",
       "    <tr>\n",
       "      <th>37140</th>\n",
       "      <td>time</td>\n",
       "      <td>780</td>\n",
       "      <td>False</td>\n",
       "      <td>True</td>\n",
       "    </tr>\n",
       "    <tr>\n",
       "      <th>24492</th>\n",
       "      <td>generated</td>\n",
       "      <td>772</td>\n",
       "      <td>False</td>\n",
       "      <td>True</td>\n",
       "    </tr>\n",
       "    <tr>\n",
       "      <th>32897</th>\n",
       "      <td>really</td>\n",
       "      <td>738</td>\n",
       "      <td>False</td>\n",
       "      <td>True</td>\n",
       "    </tr>\n",
       "    <tr>\n",
       "      <th>34336</th>\n",
       "      <td>see</td>\n",
       "      <td>733</td>\n",
       "      <td>False</td>\n",
       "      <td>True</td>\n",
       "    </tr>\n",
       "  </tbody>\n",
       "</table>\n",
       "</div>"
      ],
      "text/plain": [
       "            Word Count  Useless_Word  To_Keep\n",
       "31177     people  1688         False     True\n",
       "17128        art  1424         False     True\n",
       "28391       make  1188         False     True\n",
       "38277        use  1109         False     True\n",
       "36980      think  1062         False     True\n",
       "38321      using   976         False     True\n",
       "24723      going   916         False     True\n",
       "36960      thing   873         False     True\n",
       "29844        new   820         False     True\n",
       "27395       know   805         False     True\n",
       "31745       porn   784         False     True\n",
       "37140       time   780         False     True\n",
       "24492  generated   772         False     True\n",
       "32897     really   738         False     True\n",
       "34336        see   733         False     True"
      ]
     },
     "execution_count": 79,
     "metadata": {},
     "output_type": "execute_result"
    }
   ],
   "source": [
    "df_words[df_words['Count'] > 10].sort_values(by='Count', ascending=False).head(15)"
   ]
  },
  {
   "cell_type": "code",
   "execution_count": 80,
   "id": "f661805f",
   "metadata": {},
   "outputs": [],
   "source": [
    "top_250_words = df_words.sort_values(by='Count', ascending=False).head(250)[['Word', 'Count']]"
   ]
  },
  {
   "cell_type": "code",
   "execution_count": 122,
   "id": "e0244a10",
   "metadata": {},
   "outputs": [
    {
     "data": {
      "image/png": "[encoded data removed]",
      "text/plain": [
       "<Figure size 640x480 with 1 Axes>"
      ]
     },
     "metadata": {},
     "output_type": "display_data"
    }
   ],
   "source": [
    "ax = sns.barplot(data=top_250_words.head(15), x='Word', y='Count', orient='vertical', color='#0161F0')\n",
    "ax.tick_params(axis='x', direction='out', labelsize=10, labelrotation=90)\n",
    "ax.set_xlabel('10 most used words in tweets refered to AI and Chat GPT')\n",
    "plt.show()"
   ]
  },
  {
   "cell_type": "code",
   "execution_count": 125,
   "id": "861f45ca",
   "metadata": {},
   "outputs": [],
   "source": [
    "top_250_words.to_csv(top_250_words_filename, index=False)\n",
    "df_words.to_csv(words_filename, index=False)"
   ]
  }
 ],
 "metadata": {
  "kernelspec": {
   "display_name": "Python 3 (ipykernel)",
   "language": "python",
   "name": "python3"
  },
  "language_info": {
   "codemirror_mode": {
    "name": "ipython",
    "version": 3
   },
   "file_extension": ".py",
   "mimetype": "text/x-python",
   "name": "python",
   "nbconvert_exporter": "python",
   "pygments_lexer": "ipython3",
   "version": "3.10.9"
  }
 },
 "nbformat": 4,
 "nbformat_minor": 5
}
