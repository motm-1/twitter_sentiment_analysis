{
 "cells": [
  {
   "cell_type": "code",
   "execution_count": 357,
   "id": "a8115680",
   "metadata": {},
   "outputs": [],
   "source": [
    "import pandas as pd\n",
    "import numpy as np\n",
    "import matplotlib.pyplot as plt\n",
    "import seaborn as sns\n",
    "import nltk\n",
    "from nltk.sentiment import SentimentIntensityAnalyzer\n",
    "from tqdm.notebook import tqdm\n",
    "from transformers import AutoTokenizer\n",
    "from transformers import AutoModelForSequenceClassification\n",
    "from scipy.special import softmax\n",
    "import joblib as jbl\n",
    "response_df_filename='last_response.csv'\n",
    "polarity_df_filename='polarity_df.csv'\n",
    "new_polarity_df_filename='new_polarity_df.csv'"
   ]
  },
  {
   "cell_type": "code",
   "execution_count": 358,
   "id": "167c4c31",
   "metadata": {},
   "outputs": [],
   "source": [
    "response_df = pd.read_csv(response_df_filename)"
   ]
  },
  {
   "cell_type": "code",
   "execution_count": 2,
   "id": "a8e5cec3",
   "metadata": {},
   "outputs": [],
   "source": [
    "vader_model = SentimentIntensityAnalyzer()"
   ]
  },
  {
   "cell_type": "code",
   "execution_count": 6,
   "id": "9a3aae1d",
   "metadata": {},
   "outputs": [],
   "source": [
    "def vader_polarity(df):\n",
    "    vader_res={}\n",
    "    n = 0\n",
    "    for i, row in tqdm(df.iterrows(), total=len(df)):\n",
    "        text = row['Text']\n",
    "        vader_res[n] = vader_model.polarity_scores(text)\n",
    "        n += 1\n",
    "    return vader_res"
   ]
  },
  {
   "cell_type": "code",
   "execution_count": 8,
   "id": "73a6d23e",
   "metadata": {},
   "outputs": [],
   "source": [
    "roberta_model = f\"cardiffnlp/twitter-roberta-base-sentiment\"\n",
    "tokenizer = AutoTokenizer.from_pretrained(roberta_model)\n",
    "roberta_model = AutoModelForSequenceClassification.from_pretrained(roberta_model)"
   ]
  },
  {
   "cell_type": "code",
   "execution_count": 16,
   "id": "57559e43",
   "metadata": {},
   "outputs": [],
   "source": [
    "def polarity_scores_roberta(df):\n",
    "    res = {}\n",
    "    n = 0\n",
    "    \n",
    "    for i, row in tqdm(df.iterrows(), total=len(df)):\n",
    "        text = row['Text']\n",
    "        \n",
    "        encoded_text = tokenizer(text, return_tensors='pt')\n",
    "        output = roberta_model(**encoded_text)\n",
    "        scores = output[0][0].detach().numpy()\n",
    "        scores = softmax(scores)\n",
    "        scores_dict = {\n",
    "            'roberta_neg': scores[0],\n",
    "            'roberta_neu': scores[1],\n",
    "            'roberta_pos': scores[2]\n",
    "        }\n",
    "        res[n] = scores_dict\n",
    "        n+= 1\n",
    "    return res"
   ]
  },
  {
   "cell_type": "code",
   "execution_count": 359,
   "id": "b2c380c5",
   "metadata": {},
   "outputs": [
    {
     "data": {
      "application/vnd.jupyter.widget-view+json": {
       "model_id": "ff329dfe4cf44ccb91e407448b3439e8",
       "version_major": 2,
       "version_minor": 0
      },
      "text/plain": [
       "  0%|          | 0/6590 [00:00<?, ?it/s]"
      ]
     },
     "metadata": {},
     "output_type": "display_data"
    }
   ],
   "source": [
    "roberta_polarity = polarity_scores_roberta(response_df)\n",
    "roberta_polarity = pd.DataFrame(roberta_polarity).T"
   ]
  },
  {
   "cell_type": "code",
   "execution_count": 354,
   "id": "e62cc3b5",
   "metadata": {},
   "outputs": [
    {
     "data": {
      "text/html": [
       "<div>\n",
       "<style scoped>\n",
       "    .dataframe tbody tr th:only-of-type {\n",
       "        vertical-align: middle;\n",
       "    }\n",
       "\n",
       "    .dataframe tbody tr th {\n",
       "        vertical-align: top;\n",
       "    }\n",
       "\n",
       "    .dataframe thead th {\n",
       "        text-align: right;\n",
       "    }\n",
       "</style>\n",
       "<table border=\"1\" class=\"dataframe\">\n",
       "  <thead>\n",
       "    <tr style=\"text-align: right;\">\n",
       "      <th></th>\n",
       "      <th>Text</th>\n",
       "      <th>Date</th>\n",
       "      <th>roberta_neg</th>\n",
       "      <th>roberta_neu</th>\n",
       "      <th>roberta_pos</th>\n",
       "    </tr>\n",
       "  </thead>\n",
       "  <tbody>\n",
       "    <tr>\n",
       "      <th>0</th>\n",
       "      <td>ChatGPT is cool. But soon you'll be able to wr...</td>\n",
       "      <td>2023-02-04 01:28:43+00:00</td>\n",
       "      <td>0.005148</td>\n",
       "      <td>0.133562</td>\n",
       "      <td>0.861291</td>\n",
       "    </tr>\n",
       "    <tr>\n",
       "      <th>1</th>\n",
       "      <td>You have got to have the absolute worst self-c...</td>\n",
       "      <td>2023-02-04 01:28:37+00:00</td>\n",
       "      <td>0.969344</td>\n",
       "      <td>0.027905</td>\n",
       "      <td>0.002751</td>\n",
       "    </tr>\n",
       "    <tr>\n",
       "      <th>2</th>\n",
       "      <td>ChatGPT is the modern tech version of papal fo...</td>\n",
       "      <td>2023-02-04 01:28:35+00:00</td>\n",
       "      <td>0.279450</td>\n",
       "      <td>0.637331</td>\n",
       "      <td>0.083218</td>\n",
       "    </tr>\n",
       "    <tr>\n",
       "      <th>3</th>\n",
       "      <td>ChatGPT can probably churn out believable Link...</td>\n",
       "      <td>2023-02-04 01:28:35+00:00</td>\n",
       "      <td>0.258296</td>\n",
       "      <td>0.477726</td>\n",
       "      <td>0.263978</td>\n",
       "    </tr>\n",
       "    <tr>\n",
       "      <th>4</th>\n",
       "      <td>I was playing Genshin earlier and came upon th...</td>\n",
       "      <td>2023-02-04 01:28:27+00:00</td>\n",
       "      <td>0.565488</td>\n",
       "      <td>0.373092</td>\n",
       "      <td>0.061420</td>\n",
       "    </tr>\n",
       "  </tbody>\n",
       "</table>\n",
       "</div>"
      ],
      "text/plain": [
       "                                                Text  \\\n",
       "0  ChatGPT is cool. But soon you'll be able to wr...   \n",
       "1  You have got to have the absolute worst self-c...   \n",
       "2  ChatGPT is the modern tech version of papal fo...   \n",
       "3  ChatGPT can probably churn out believable Link...   \n",
       "4  I was playing Genshin earlier and came upon th...   \n",
       "\n",
       "                        Date  roberta_neg  roberta_neu  roberta_pos  \n",
       "0  2023-02-04 01:28:43+00:00     0.005148     0.133562     0.861291  \n",
       "1  2023-02-04 01:28:37+00:00     0.969344     0.027905     0.002751  \n",
       "2  2023-02-04 01:28:35+00:00     0.279450     0.637331     0.083218  \n",
       "3  2023-02-04 01:28:35+00:00     0.258296     0.477726     0.263978  \n",
       "4  2023-02-04 01:28:27+00:00     0.565488     0.373092     0.061420  "
      ]
     },
     "execution_count": 354,
     "metadata": {},
     "output_type": "execute_result"
    }
   ],
   "source": [
    "new_polarity_df = response_df.join(roberta_polarity, how='right')\n",
    "new_polarity_df.head()"
   ]
  },
  {
   "cell_type": "code",
   "execution_count": 356,
   "id": "388455bd",
   "metadata": {},
   "outputs": [],
   "source": [
    "old_polarity_df = pd.read_csv(polarity_df_filename)\n",
    "polarity_df = pd.concat([old_polarity_df, new_polarity_df], ignore_index=True)\n",
    "polarity_df.drop_duplicates(subset=['Text'], ignore_index=True, inplace=True)\n",
    "new_polarity_df.to_csv(new_polarity_df_filename, index=False)\n",
    "polarity_df.to_csv(polarity_df_filename, index=False)"
   ]
  }
 ],
 "metadata": {
  "kernelspec": {
   "display_name": "Python 3 (ipykernel)",
   "language": "python",
   "name": "python3"
  },
  "language_info": {
   "codemirror_mode": {
    "name": "ipython",
    "version": 3
   },
   "file_extension": ".py",
   "mimetype": "text/x-python",
   "name": "python",
   "nbconvert_exporter": "python",
   "pygments_lexer": "ipython3",
   "version": "3.10.9"
  }
 },
 "nbformat": 4,
 "nbformat_minor": 5
}
